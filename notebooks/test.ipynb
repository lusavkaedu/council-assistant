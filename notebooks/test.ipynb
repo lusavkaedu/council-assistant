{
 "cells": [
  {
   "cell_type": "code",
   "execution_count": 1,
   "id": "84458b8a",
   "metadata": {},
   "outputs": [
    {
     "name": "stdout",
     "output_type": "stream",
     "text": [
      "✅ Extracted and saved 29 meeting records to ../data/events/meetings_metadata.jsonl\n"
     ]
    }
   ],
   "source": [
    "import json\n",
    "from pathlib import Path\n",
    "import re\n",
    "\n",
    "BASE_DIR = Path(\"../data/council_documents/\")\n",
    "OUTPUT_FILE = Path(\"../data/events/meetings_metadata.jsonl\")\n",
    "OUTPUT_FILE.parent.mkdir(parents=True, exist_ok=True)\n",
    "\n",
    "def slugify(text):\n",
    "    return re.sub(r\"[^a-z0-9]+\", \"_\", text.lower()).strip(\"_\")\n",
    "\n",
    "meetings_metadata = {}\n",
    "\n",
    "# Load existing metadata if file exists\n",
    "if OUTPUT_FILE.exists():\n",
    "    with open(OUTPUT_FILE) as f:\n",
    "        for line in f:\n",
    "            record = json.loads(line)\n",
    "            meetings_metadata[record[\"meeting_id\"]] = record\n",
    "\n",
    "# Walk the committee/date folders\n",
    "for committee_folder in BASE_DIR.iterdir():\n",
    "    if not committee_folder.is_dir():\n",
    "        continue\n",
    "\n",
    "    committee_name = committee_folder.name\n",
    "    committee_id = f\"kent_cc__{slugify(committee_name)}\"\n",
    "\n",
    "    for meeting_folder in committee_folder.iterdir():\n",
    "        if not meeting_folder.is_dir():\n",
    "            continue\n",
    "\n",
    "        date_str = meeting_folder.name\n",
    "        summary_file = meeting_folder / \"summary.txt\"\n",
    "        meeting_id = f\"{date_str}_{committee_id}\"\n",
    "        folder_path = str(meeting_folder)\n",
    "\n",
    "        # Load or create metadata\n",
    "        record = meetings_metadata.get(meeting_id, {\n",
    "            \"meeting_id\": meeting_id,\n",
    "            \"committee_id\": committee_id,\n",
    "            \"meeting_date\": date_str,\n",
    "            \"folder_path\": folder_path\n",
    "        })\n",
    "\n",
    "        # Inject summary if available\n",
    "        if summary_file.exists():\n",
    "            record[\"summary\"] = summary_file.read_text().strip()\n",
    "\n",
    "        meetings_metadata[meeting_id] = record\n",
    "\n",
    "# Save to JSONL\n",
    "with open(OUTPUT_FILE, \"w\") as f:\n",
    "    for rec in meetings_metadata.values():\n",
    "        f.write(json.dumps(rec) + \"\\n\")\n",
    "\n",
    "print(f\"✅ Extracted and saved {len(meetings_metadata)} meeting records to {OUTPUT_FILE}\")"
   ]
  },
  {
   "cell_type": "code",
   "execution_count": null,
   "id": "e1f0ea9e",
   "metadata": {},
   "outputs": [],
   "source": []
  }
 ],
 "metadata": {
  "kernelspec": {
   "display_name": "myenv",
   "language": "python",
   "name": "python3"
  },
  "language_info": {
   "codemirror_mode": {
    "name": "ipython",
    "version": 3
   },
   "file_extension": ".py",
   "mimetype": "text/x-python",
   "name": "python",
   "nbconvert_exporter": "python",
   "pygments_lexer": "ipython3",
   "version": "3.10.13"
  }
 },
 "nbformat": 4,
 "nbformat_minor": 5
}

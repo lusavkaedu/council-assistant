{
 "cells": [
  {
   "cell_type": "code",
   "execution_count": 26,
   "id": "66708ed6",
   "metadata": {},
   "outputs": [
    {
     "name": "stdout",
     "output_type": "stream",
     "text": [
      "\n",
      "Hash: 5ea6db115605afb062a170501447c7a9747ee5199cf9fc291b2bda754b3daff2 (2 duplicates)\n",
      " - cabinet/2025-01-30/originals/Printed minutes 30th-Jan-2025 10.00 Cabinet.pdf\n",
      " - cabinet/2025-03-04/originals/Minutes of Previous Meeting.pdf\n",
      "\n",
      "Hash: f008f18088193b1ab96c9b36c532983e40af5fb957711f864b69a640f5bf3625 (2 duplicates)\n",
      " - cabinet/2025-01-30/originals/Appendix C - Potential Capital Projects.pdf\n",
      " - full_council/2025-02-13/originals/Appendix C - Potential Capital Projects.pdf\n",
      "\n",
      "Hash: f6d75d41d059c23e1f6fa8d7acb3ed4c44ff89d22785f855c153181620abfd38 (2 duplicates)\n",
      " - cabinet/2025-03-04/originals/APPENDIX A - Planning Inspectors Report on the Examination of the KMWLP 2024-39.pdf\n",
      " - full_council/2025-03-13/originals/APPENDIX A - Planning Inspectors Report on the Examination of the KMWLP 2024-39.pdf\n",
      "\n",
      "Hash: b06b6049f1af0ef77d22042fc9b2121f253a8bd6aff344855a5412426893a912 (2 duplicates)\n",
      " - cabinet/2025-03-04/originals/APPENDIX B - ADOPTION of KMWLP 2024-39.pdf\n",
      " - full_council/2025-03-13/originals/APPENDIX B - CLEAN VERSION for ADOPTION of KMWLP 2024-39 showing all Modifications - March 2025.pdf\n",
      "\n",
      "Hash: 9c9d5bc4a0b61f686d19e3ce3940125d40bd4cbeb931996d4208d0a4bf02291c (2 duplicates)\n",
      " - full_council/2025-03-13/originals/Questions%20put%20and%20answers%20given%2013th-Mar-2025%2010.00%20County%20Council.pdf\n",
      " - full_council/2025-03-13/originals/Questions put and answers given 13th-Mar-2025 10.00 County Council.pdf\n",
      "\n",
      "Hash: 9b989f857c871ab0428a8dda1bc3f104f2208d756997b2c19f928c69eac71192 (2 duplicates)\n",
      " - full_council/2025-03-13/originals/Minutes of Previous Meeting.pdf\n",
      " - full_council/2025-02-13/originals/Printed minutes 13th-Feb-2025 09.30 County Council.pdf\n",
      "\n",
      "Hash: 5ee51a8fa426e6695ac74f0dda667fbaf16b8d26a4dd4bd4d95ecb98996c3846 (2 duplicates)\n",
      " - full_council/2025-02-13/originals/1 - Annex 1 - Labour Group Budget - covering report 2025.pdf\n",
      " - full_council/2025-02-13/originals/1 - Annex 1 - Labour Group Budget - covering report 2025_1.pdf\n",
      "\n",
      "Hash: d777542f83a271e1f00e9b8ccbd948892b9fcd6244e6eeb906766d84602109fa (2 duplicates)\n",
      " - full_council/2025-02-13/originals/1 - Amendment - Labour Groups Alternative Budget - 2025.pdf\n",
      " - full_council/2025-02-13/originals/1 - Amendment - Labour Groups Alternative Budget - 2025_1.pdf\n",
      "\n",
      "Hash: 5a3df788e8bc302c98b44193878d1cf9b8a37ea37da26d322f526095bbd55137 (2 duplicates)\n",
      " - full_council/2025-02-13/originals/1 - Annex 2 - Labour Group Alternative Budget 2025-28 - Appendix D_1.pdf\n",
      " - full_council/2025-02-13/originals/1 - Annex 2 - Labour Group Alternative Budget 2025-28 - Appendix D.pdf\n",
      "\n",
      "Hash: d7ce55ba09f3b868a2023cad2ddef7d0bf2c1577c46b1fd3f6f87436faec418c (2 duplicates)\n",
      " - full_council/2025-02-13/originals/Budget Amendments 13th-Feb-2025 09.30 County Council.pdf\n",
      " - full_council/2025-02-13/originals/Budget%20Amendments%2013th-Feb-2025%2009.30%20County%20Council.pdf\n",
      "\n",
      "Hash: 21aa34b5176871bf7bc93a4f062e708a50a2c7bf0aa6ed39c021eaf793577ab7 (2 duplicates)\n",
      " - full_council/2025-02-13/originals/9 January 2025 - County Council minutes.pdf\n",
      " - full_council/2025-01-09/originals/Printed minutes 09th-Jan-2025 10.00 County Council.pdf\n",
      "\n",
      "Hash: 6a217983ffbf51159748adb0a22c9e2cfc8dc8d9dd515339988ddc1155fef79c (2 duplicates)\n",
      " - full_council/2025-02-13/originals/3 - Amendment - Liberal Democrats - LEVI capital funding.pdf\n",
      " - full_council/2025-02-13/originals/3 - Amendment - Liberal Democrats - LEVI capital funding_1.pdf\n",
      "\n",
      "Hash: 75c97ff2e2f18364b1c2091c201c517d11d580c79f8abc21e82932f277a05ac5 (2 duplicates)\n",
      " - full_council/2025-02-13/originals/4 - Amendment - Liberal Democrats - Highway Asset Maintenance_1.pdf\n",
      " - full_council/2025-02-13/originals/4 - Amendment - Liberal Democrats - Highway Asset Maintenance.pdf\n",
      "\n",
      "Hash: e957cf4bdee947efb3c63703cbb44fba81939b5acbe98ff6424d20b4e0bb9665 (2 duplicates)\n",
      " - full_council/2025-02-13/originals/1 - Annex 3 - Labour Group Alternative Budget 2025-28 - Appendix F.pdf\n",
      " - full_council/2025-02-13/originals/1 - Annex 3 - Labour Group Alternative Budget 2025-28 - Appendix F_1.pdf\n"
     ]
    }
   ],
   "source": [
    "import json\n",
    "from collections import defaultdict\n",
    "\n",
    "# Load the document_ids.json\n",
    "with open('../data/processed_register/document_ids.json', 'r') as f:\n",
    "    doc_ids = json.load(f)\n",
    "\n",
    "from collections import defaultdict\n",
    "\n",
    "# Build reverse lookup: hash → list of document paths\n",
    "hash_to_docs = defaultdict(list)\n",
    "for doc_path, info in doc_ids.items():\n",
    "    doc_hash = info['hash']\n",
    "    hash_to_docs[doc_hash].append(doc_path)\n",
    "\n",
    "# Filter to only those with duplicates\n",
    "duplicates = {h: paths for h, paths in hash_to_docs.items() if len(paths) > 1}\n",
    "\n",
    "# Display duplicate sets\n",
    "for h, paths in duplicates.items():\n",
    "    print(f\"\\nHash: {h} ({len(paths)} duplicates)\")\n",
    "    for p in paths:\n",
    "        print(\" -\", p)"
   ]
  },
  {
   "cell_type": "code",
   "execution_count": 10,
   "id": "614fa844",
   "metadata": {},
   "outputs": [
    {
     "name": "stdout",
     "output_type": "stream",
     "text": [
      "Found 35 metadata.json files\n"
     ]
    },
    {
     "data": {
      "text/plain": [
       "[PosixPath('../data/council_documents/cabinet/2024-11-28/metadata.json'),\n",
       " PosixPath('../data/council_documents/cabinet/2025-03-13/metadata.json'),\n",
       " PosixPath('../data/council_documents/cabinet/2024-01-04/metadata.json'),\n",
       " PosixPath('../data/council_documents/cabinet/2024-09-26/metadata.json'),\n",
       " PosixPath('../data/council_documents/cabinet/2024-01-25/metadata.json')]"
      ]
     },
     "execution_count": 10,
     "metadata": {},
     "output_type": "execute_result"
    }
   ],
   "source": [
    "import json\n",
    "import pandas as pd\n",
    "from pathlib import Path\n",
    "from tqdm import tqdm\n",
    "\n",
    "# Locate metadata.json files in meeting folders\n",
    "metadata_paths = list(Path(\"../data/council_documents\").rglob(\"*/metadata.json\"))\n",
    "print(f\"Found {len(metadata_paths)} metadata.json files\")\n",
    "metadata_paths[:5]"
   ]
  },
  {
   "cell_type": "code",
   "execution_count": 28,
   "id": "6ebfe505",
   "metadata": {},
   "outputs": [
    {
     "name": "stdout",
     "output_type": "stream",
     "text": [
      "✅ Moved 6 duplicate files to /duplicates\n",
      "❌ Removed 6 entries from document_ids.json\n"
     ]
    }
   ],
   "source": [
    "import os\n",
    "import json\n",
    "import shutil\n",
    "from pathlib import Path\n",
    "from collections import defaultdict\n",
    "\n",
    "# === CONFIGURATION ===\n",
    "data_root = Path(\"../data/council_documents\")\n",
    "doc_id_path = data_root.parent / \"processed_register/document_ids.json\"\n",
    "duplicates_folder = data_root / \"duplicates\"\n",
    "duplicates_folder.mkdir(parents=True, exist_ok=True)\n",
    "\n",
    "# === LOAD document_ids.json\n",
    "with open(doc_id_path, \"r\") as f:\n",
    "    doc_ids = json.load(f)\n",
    "\n",
    "# === BUILD reverse lookup: hash → list of document paths\n",
    "hash_to_paths = defaultdict(list)\n",
    "for path, info in doc_ids.items():\n",
    "    hash_to_paths[info[\"hash\"]].append(path)\n",
    "\n",
    "# === INIT\n",
    "removed_files = []\n",
    "doc_ids_to_delete = []\n",
    "\n",
    "# === MAIN LOGIC\n",
    "for doc_hash, paths in hash_to_paths.items():\n",
    "    if len(paths) < 2:\n",
    "        continue  # skip non-duplicates\n",
    "\n",
    "    # Group by meeting folder\n",
    "    meeting_groups = defaultdict(list)\n",
    "    for p in paths:\n",
    "        parts = Path(p).parts\n",
    "        meeting_key = \"/\".join(parts[:2])  # e.g., full_council/2025-02-13\n",
    "        meeting_groups[meeting_key].append(p)\n",
    "\n",
    "    for meeting, path_list in meeting_groups.items():\n",
    "        if len(path_list) < 2:\n",
    "            continue\n",
    "\n",
    "        # Look for pairs where one ends in \"_1.pdf\"\n",
    "        for p in path_list:\n",
    "            if p.endswith(\"_1.pdf\"):\n",
    "                try:\n",
    "                    full_path = data_root / p\n",
    "                    target_path = duplicates_folder / Path(p).name\n",
    "\n",
    "                    # Move to duplicates folder\n",
    "                    shutil.move(str(full_path), str(target_path))\n",
    "                    removed_files.append(p)\n",
    "                    doc_ids_to_delete.append(p)\n",
    "\n",
    "                    # Update metadata.json (if present)\n",
    "                    meta_path = data_root / meeting / \"metadata.json\"\n",
    "                    if meta_path.exists():\n",
    "                        with open(meta_path, \"r\", encoding=\"utf-8\") as f:\n",
    "                            metadata = json.load(f)\n",
    "                        for entry in metadata:\n",
    "                            if entry.get(\"filename\") == Path(p).name:\n",
    "                                entry[\"duplicate_removed\"] = True\n",
    "                        with open(meta_path, \"w\", encoding=\"utf-8\") as f:\n",
    "                            json.dump(metadata, f, indent=2, ensure_ascii=False)\n",
    "\n",
    "                except Exception as e:\n",
    "                    print(f\"⚠️ Error processing {p}: {e}\")\n",
    "\n",
    "# === CLEAN document_ids.json\n",
    "for p in doc_ids_to_delete:\n",
    "    if p in doc_ids:\n",
    "        del doc_ids[p]\n",
    "\n",
    "with open(doc_id_path, \"w\") as f:\n",
    "    json.dump(doc_ids, f, indent=2)\n",
    "\n",
    "print(f\"✅ Moved {len(removed_files)} duplicate files to /duplicates\")\n",
    "print(f\"❌ Removed {len(doc_ids_to_delete)} entries from document_ids.json\")"
   ]
  },
  {
   "cell_type": "code",
   "execution_count": 29,
   "id": "d4ade493",
   "metadata": {},
   "outputs": [
    {
     "name": "stderr",
     "output_type": "stream",
     "text": [
      "100%|██████████| 11/11 [00:00<00:00, 2150.22it/s]\n"
     ]
    }
   ],
   "source": [
    "import json\n",
    "import pandas as pd\n",
    "from pathlib import Path\n",
    "from tqdm import tqdm\n",
    "\n",
    "# Locate all metadata.json files under each meeting folder\n",
    "metadata_paths = list(Path(\"../data/council_documents\").rglob(\"*/metadata.json\"))\n",
    "\n",
    "# Collect records\n",
    "records = []\n",
    "\n",
    "for path in tqdm(metadata_paths):\n",
    "    with open(path, \"r\") as f:\n",
    "        try:\n",
    "            data = json.load(f)\n",
    "            committee, meeting_date = path.parts[-3], path.parts[-2]\n",
    "            for item in data:\n",
    "                item['committee'] = committee\n",
    "                item['meeting_date'] = meeting_date\n",
    "                records.append(item)\n",
    "        except Exception as e:\n",
    "            print(f\"⚠️ Error loading {path}: {e}\")"
   ]
  },
  {
   "cell_type": "code",
   "execution_count": 30,
   "id": "d94a7cd8",
   "metadata": {},
   "outputs": [
    {
     "data": {
      "text/html": [
       "<div>\n",
       "<style scoped>\n",
       "    .dataframe tbody tr th:only-of-type {\n",
       "        vertical-align: middle;\n",
       "    }\n",
       "\n",
       "    .dataframe tbody tr th {\n",
       "        vertical-align: top;\n",
       "    }\n",
       "\n",
       "    .dataframe thead th {\n",
       "        text-align: right;\n",
       "    }\n",
       "</style>\n",
       "<table border=\"1\" class=\"dataframe\">\n",
       "  <thead>\n",
       "    <tr style=\"text-align: right;\">\n",
       "      <th></th>\n",
       "      <th>filename</th>\n",
       "      <th>path</th>\n",
       "      <th>type</th>\n",
       "      <th>committee</th>\n",
       "      <th>meeting_date</th>\n",
       "      <th>document_category</th>\n",
       "      <th>url</th>\n",
       "      <th>created</th>\n",
       "      <th>duplicate_removed</th>\n",
       "    </tr>\n",
       "  </thead>\n",
       "  <tbody>\n",
       "    <tr>\n",
       "      <th>0</th>\n",
       "      <td>Agenda frontsheet 13th-Mar-2025 15.00 Cabinet.pdf</td>\n",
       "      <td>originals/Agenda frontsheet 13th-Mar-2025 15.0...</td>\n",
       "      <td>pdf</td>\n",
       "      <td>cabinet</td>\n",
       "      <td>2025-03-13</td>\n",
       "      <td>agenda_frontsheet</td>\n",
       "      <td>https://democracy.kent.gov.uk/documents/g9767/...</td>\n",
       "      <td>2025-05-07T00:35:46.746119</td>\n",
       "      <td>NaN</td>\n",
       "    </tr>\n",
       "    <tr>\n",
       "      <th>1</th>\n",
       "      <td>Public reports pack 13th-Mar-2025 15.00 Cabine...</td>\n",
       "      <td>originals/Public reports pack 13th-Mar-2025 15...</td>\n",
       "      <td>pdf</td>\n",
       "      <td>cabinet</td>\n",
       "      <td>2025-03-13</td>\n",
       "      <td>report</td>\n",
       "      <td>https://democracy.kent.gov.uk/documents/g9767/...</td>\n",
       "      <td>2025-05-07T00:35:47.721603</td>\n",
       "      <td>NaN</td>\n",
       "    </tr>\n",
       "    <tr>\n",
       "      <th>2</th>\n",
       "      <td>Agenda frontsheet 30th-Jan-2025 10.00 Cabinet.pdf</td>\n",
       "      <td>originals/Agenda frontsheet 30th-Jan-2025 10.0...</td>\n",
       "      <td>pdf</td>\n",
       "      <td>cabinet</td>\n",
       "      <td>2025-01-30</td>\n",
       "      <td>agenda_frontsheet</td>\n",
       "      <td>https://democracy.kent.gov.uk/documents/g9475/...</td>\n",
       "      <td>2025-05-07T00:36:06.596864</td>\n",
       "      <td>NaN</td>\n",
       "    </tr>\n",
       "    <tr>\n",
       "      <th>3</th>\n",
       "      <td>24-00096 - PROD 30th-Jan-2025 10.00 Cabinet.pdf</td>\n",
       "      <td>originals/24-00096 - PROD 30th-Jan-2025 10.00 ...</td>\n",
       "      <td>pdf</td>\n",
       "      <td>cabinet</td>\n",
       "      <td>2025-01-30</td>\n",
       "      <td>other</td>\n",
       "      <td>https://democracy.kent.gov.uk/documents/b25205...</td>\n",
       "      <td>2025-05-07T00:36:07.664662</td>\n",
       "      <td>NaN</td>\n",
       "    </tr>\n",
       "    <tr>\n",
       "      <th>4</th>\n",
       "      <td>Item 7 - Supplementary - 2400109 - Transfer th...</td>\n",
       "      <td>originals/Item 7 - Supplementary - 2400109 - T...</td>\n",
       "      <td>pdf</td>\n",
       "      <td>cabinet</td>\n",
       "      <td>2025-01-30</td>\n",
       "      <td>other</td>\n",
       "      <td>https://democracy.kent.gov.uk/documents/b25207...</td>\n",
       "      <td>2025-05-07T00:36:08.777909</td>\n",
       "      <td>NaN</td>\n",
       "    </tr>\n",
       "  </tbody>\n",
       "</table>\n",
       "</div>"
      ],
      "text/plain": [
       "                                            filename  \\\n",
       "0  Agenda frontsheet 13th-Mar-2025 15.00 Cabinet.pdf   \n",
       "1  Public reports pack 13th-Mar-2025 15.00 Cabine...   \n",
       "2  Agenda frontsheet 30th-Jan-2025 10.00 Cabinet.pdf   \n",
       "3    24-00096 - PROD 30th-Jan-2025 10.00 Cabinet.pdf   \n",
       "4  Item 7 - Supplementary - 2400109 - Transfer th...   \n",
       "\n",
       "                                                path type committee  \\\n",
       "0  originals/Agenda frontsheet 13th-Mar-2025 15.0...  pdf   cabinet   \n",
       "1  originals/Public reports pack 13th-Mar-2025 15...  pdf   cabinet   \n",
       "2  originals/Agenda frontsheet 30th-Jan-2025 10.0...  pdf   cabinet   \n",
       "3  originals/24-00096 - PROD 30th-Jan-2025 10.00 ...  pdf   cabinet   \n",
       "4  originals/Item 7 - Supplementary - 2400109 - T...  pdf   cabinet   \n",
       "\n",
       "  meeting_date  document_category  \\\n",
       "0   2025-03-13  agenda_frontsheet   \n",
       "1   2025-03-13             report   \n",
       "2   2025-01-30  agenda_frontsheet   \n",
       "3   2025-01-30              other   \n",
       "4   2025-01-30              other   \n",
       "\n",
       "                                                 url  \\\n",
       "0  https://democracy.kent.gov.uk/documents/g9767/...   \n",
       "1  https://democracy.kent.gov.uk/documents/g9767/...   \n",
       "2  https://democracy.kent.gov.uk/documents/g9475/...   \n",
       "3  https://democracy.kent.gov.uk/documents/b25205...   \n",
       "4  https://democracy.kent.gov.uk/documents/b25207...   \n",
       "\n",
       "                      created duplicate_removed  \n",
       "0  2025-05-07T00:35:46.746119               NaN  \n",
       "1  2025-05-07T00:35:47.721603               NaN  \n",
       "2  2025-05-07T00:36:06.596864               NaN  \n",
       "3  2025-05-07T00:36:07.664662               NaN  \n",
       "4  2025-05-07T00:36:08.777909               NaN  "
      ]
     },
     "execution_count": 30,
     "metadata": {},
     "output_type": "execute_result"
    }
   ],
   "source": [
    "df = pd.DataFrame(records)\n",
    "\n",
    "# Convert meeting_date to datetime\n",
    "df['meeting_date'] = pd.to_datetime(df['meeting_date'], errors='coerce')\n",
    "\n",
    "# View column names and a sample\n",
    "df.columns\n",
    "df.head()"
   ]
  },
  {
   "cell_type": "code",
   "execution_count": 31,
   "id": "7273edf7",
   "metadata": {},
   "outputs": [
    {
     "data": {
      "image/png": "[encoded data removed]",
      "text/plain": [
       "<Figure size 1000x500 with 1 Axes>"
      ]
     },
     "metadata": {},
     "output_type": "display_data"
    },
    {
     "data": {
      "image/png": "[encoded data removed]",
      "text/plain": [
       "<Figure size 1400x500 with 1 Axes>"
      ]
     },
     "metadata": {},
     "output_type": "display_data"
    },
    {
     "data": {
      "image/png": "[encoded data removed]",
      "text/plain": [
       "<Figure size 800x400 with 1 Axes>"
      ]
     },
     "metadata": {},
     "output_type": "display_data"
    },
    {
     "name": "stdout",
     "output_type": "stream",
     "text": [
      "No 'file_size' column available.\n"
     ]
    }
   ],
   "source": [
    "import matplotlib.pyplot as plt\n",
    "committee_counts = df['committee'].value_counts().sort_values(ascending=False)\n",
    "\n",
    "committee_counts.plot(kind='bar', figsize=(10, 5))\n",
    "plt.title(\"Documents by Committee\")\n",
    "plt.xlabel(\"Committee\")\n",
    "plt.ylabel(\"Document Count\")\n",
    "plt.xticks(rotation=45)\n",
    "plt.tight_layout()\n",
    "plt.show()\n",
    "\n",
    "\n",
    "### 🗓️ Cell 3: Documents by Meeting Date (Chronological)\n",
    "\n",
    "df['meeting_date'] = pd.to_datetime(df['meeting_date'], errors='coerce')\n",
    "date_counts = df['meeting_date'].value_counts().sort_index()\n",
    "\n",
    "date_counts.plot(kind='bar', figsize=(14, 5))\n",
    "plt.title(\"Documents by Meeting Date\")\n",
    "plt.xlabel(\"Date\")\n",
    "plt.ylabel(\"Document Count\")\n",
    "plt.xticks(rotation=45)\n",
    "plt.tight_layout()\n",
    "plt.show()\n",
    "\n",
    "### 🗂️ Cell 4: Documents by Document Category\n",
    "\n",
    "if 'document_category' in df.columns:\n",
    "    category_counts = df['document_category'].value_counts()\n",
    "\n",
    "    category_counts.plot(kind='bar', figsize=(8, 4))\n",
    "    plt.title(\"Document Category Distribution\")\n",
    "    plt.xlabel(\"Category\")\n",
    "    plt.ylabel(\"Count\")\n",
    "    plt.xticks(rotation=45)\n",
    "    plt.tight_layout()\n",
    "    plt.show()\n",
    "else:\n",
    "    print(\"No 'document_category' column found.\")\n",
    "\n",
    "### 📦 Cell 5: File Size Distribution (if available)\n",
    "\n",
    "if 'file_size' in df.columns:\n",
    "    df['file_size_kb'] = df['file_size'] / 1024\n",
    "\n",
    "    df['file_size_kb'].plot(kind='hist', bins=30, figsize=(8, 4), edgecolor='black')\n",
    "    plt.title(\"Distribution of File Sizes (KB)\")\n",
    "    plt.xlabel(\"File Size (KB)\")\n",
    "    plt.ylabel(\"Document Count\")\n",
    "    plt.tight_layout()\n",
    "    plt.show()\n",
    "else:\n",
    "    print(\"No 'file_size' column available.\")"
   ]
  },
  {
   "cell_type": "code",
   "execution_count": 32,
   "id": "53062f15",
   "metadata": {},
   "outputs": [
    {
     "name": "stdout",
     "output_type": "stream",
     "text": [
      "<class 'pandas.core.frame.DataFrame'>\n",
      "RangeIndex: 149 entries, 0 to 148\n",
      "Data columns (total 9 columns):\n",
      " #   Column             Non-Null Count  Dtype         \n",
      "---  ------             --------------  -----         \n",
      " 0   filename           149 non-null    object        \n",
      " 1   path               149 non-null    object        \n",
      " 2   type               149 non-null    object        \n",
      " 3   committee          149 non-null    object        \n",
      " 4   meeting_date       149 non-null    datetime64[ns]\n",
      " 5   document_category  149 non-null    object        \n",
      " 6   url                149 non-null    object        \n",
      " 7   created            149 non-null    object        \n",
      " 8   duplicate_removed  6 non-null      object        \n",
      "dtypes: datetime64[ns](1), object(8)\n",
      "memory usage: 10.6+ KB\n"
     ]
    }
   ],
   "source": [
    "df.info()"
   ]
  },
  {
   "cell_type": "markdown",
   "id": "967352bd",
   "metadata": {},
   "source": [
    "### Deleting all chunks (if needed)"
   ]
  },
  {
   "cell_type": "code",
   "execution_count": 34,
   "id": "c7d80b1d",
   "metadata": {},
   "outputs": [
    {
     "name": "stdout",
     "output_type": "stream",
     "text": [
      "Found 0 chunks folders to delete...\n",
      "🧼 All chunk folders removed.\n"
     ]
    }
   ],
   "source": [
    "from pathlib import Path\n",
    "import shutil\n",
    "\n",
    "base_dir = Path(\"../data/council_documents\")\n",
    "chunks_folders = list(base_dir.rglob(\"*/chunks\"))\n",
    "\n",
    "print(f\"Found {len(chunks_folders)} chunks folders to delete...\")\n",
    "\n",
    "for folder in chunks_folders:\n",
    "    try:\n",
    "        shutil.rmtree(folder)\n",
    "        print(f\"✅ Deleted {folder}\")\n",
    "    except Exception as e:\n",
    "        print(f\"❌ Failed to delete {folder}: {e}\")\n",
    "\n",
    "print(\"🧼 All chunk folders removed.\")"
   ]
  },
  {
   "cell_type": "markdown",
   "id": "355a49b4",
   "metadata": {},
   "source": [
    "### Deleting status from manifest - when chuncks have been manually removed using bash"
   ]
  },
  {
   "cell_type": "code",
   "execution_count": 36,
   "id": "67031767",
   "metadata": {},
   "outputs": [
    {
     "name": "stdout",
     "output_type": "stream",
     "text": [
      "✅ Manifest status reset for missing chunk files.\n"
     ]
    }
   ],
   "source": [
    "import json\n",
    "from pathlib import Path\n",
    "\n",
    "manifest_path = Path(\"../data/processed_register/document_manifest.jsonl\")\n",
    "updated_lines = []\n",
    "\n",
    "with open(manifest_path, \"r\", encoding=\"utf-8\") as f:\n",
    "    for line in f:\n",
    "        line = line.strip()\n",
    "        if not line:\n",
    "            continue  # skip empty lines\n",
    "        try:\n",
    "            entry = json.loads(line)\n",
    "        except json.JSONDecodeError:\n",
    "            print(\"⚠️ Skiipping malformed line:\", line)\n",
    "            continue\n",
    "\n",
    "        chunk_path = entry.get(\"chunk_path\")\n",
    "        if chunk_path and not Path(chunk_path).exists():\n",
    "            entry[\"status\"] = \"ready_for_chunking\"\n",
    "            entry[\"chunk_path\"] = None\n",
    "\n",
    "        updated_lines.append(json.dumps(entry, ensure_ascii=False))\n",
    "\n",
    "with open(manifest_path, \"w\", encoding=\"utf-8\") as f:\n",
    "    for line in updated_lines:\n",
    "        f.write(line + \"\\n\")\n",
    "\n",
    "print(\"✅ Manifest status reset for missing chunk files.\")"
   ]
  },
  {
   "cell_type": "code",
   "execution_count": null,
   "id": "066aac8f",
   "metadata": {},
   "outputs": [],
   "source": []
  },
  {
   "cell_type": "code",
   "execution_count": null,
   "id": "e9ad8240",
   "metadata": {},
   "outputs": [],
   "source": []
  }
 ],
 "metadata": {
  "kernelspec": {
   "display_name": "myenv",
   "language": "python",
   "name": "python3"
  },
  "language_info": {
   "codemirror_mode": {
    "name": "ipython",
    "version": 3
   },
   "file_extension": ".py",
   "mimetype": "text/x-python",
   "name": "python",
   "nbconvert_exporter": "python",
   "pygments_lexer": "ipython3",
   "version": "3.10.13"
  }
 },
 "nbformat": 4,
 "nbformat_minor": 5
}
